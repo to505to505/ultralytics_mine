{
 "cells": [
  {
   "cell_type": "code",
   "execution_count": 7,
   "metadata": {},
   "outputs": [
    {
     "name": "stdout",
     "output_type": "stream",
     "text": [
      "Конкатенация завершена: models.txt\n"
     ]
    }
   ],
   "source": [
    "import os\n",
    "import mimetypes\n",
    "\n",
    "def is_text_file(file_path):\n",
    "    mime_type, _ = mimetypes.guess_type(file_path)\n",
    "    return mime_type is None or mime_type.startswith(\"text\")\n",
    "\n",
    "def concatenate_code(directory=\"ultralytics/models/yolo/detect\", output_file=\"models.txt\"):  \n",
    "    with open(output_file, \"w\", encoding=\"utf-8\") as out_file:\n",
    "        # Записываем исходную директорию в начале файла\n",
    "        out_file.write(f\"Исходная директория: {directory}\\n\\n\")\n",
    "        \n",
    "        for root, _, files in os.walk(directory):\n",
    "            for file in files:\n",
    "                file_path = os.path.join(root, file)\n",
    "                \n",
    "                if file == output_file:  # Избегаем записи самого файла результата\n",
    "                    continue\n",
    "                \n",
    "                if os.path.getsize(file_path) > 5 * 1024 * 1024:  # Пропускаем файлы больше 5МБ\n",
    "                    continue\n",
    "                \n",
    "                if not is_text_file(file_path):  # Пропускаем не текстовые файлы\n",
    "                    continue\n",
    "                \n",
    "                try:\n",
    "                    with open(file_path, \"r\", encoding=\"utf-8\", errors=\"ignore\") as f:\n",
    "                        # Перед содержимым каждого файла записываем его имя и директорию\n",
    "                        file_directory = os.path.dirname(file_path)\n",
    "                        out_file.write(f\"\\n--- Файл: {file} ---\\n\")\n",
    "                        out_file.write(f\"Директория: {file_directory}\\n\")\n",
    "                        out_file.write(f.read())\n",
    "                        out_file.write(\"\\n\\n\")\n",
    "                except Exception as e:\n",
    "                    print(f\"Пропуск {file_path}: {e}\")\n",
    "    print(f\"Конкатенация завершена: {output_file}\")\n",
    "\n",
    "if __name__ == \"__main__\":\n",
    "    concatenate_code()\n"
   ]
  }
 ],
 "metadata": {
  "kernelspec": {
   "display_name": "cuda_cad",
   "language": "python",
   "name": "python3"
  },
  "language_info": {
   "codemirror_mode": {
    "name": "ipython",
    "version": 3
   },
   "file_extension": ".py",
   "mimetype": "text/x-python",
   "name": "python",
   "nbconvert_exporter": "python",
   "pygments_lexer": "ipython3",
   "version": "3.12.4"
  }
 },
 "nbformat": 4,
 "nbformat_minor": 2
}
